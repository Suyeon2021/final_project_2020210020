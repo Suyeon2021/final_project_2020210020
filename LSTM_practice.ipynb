{
  "nbformat": 4,
  "nbformat_minor": 0,
  "metadata": {
    "colab": {
      "name": "태양광 3.0.ipynb",
      "provenance": [],
      "collapsed_sections": []
    },
    "kernelspec": {
      "name": "python3",
      "display_name": "Python 3"
    },
    "language_info": {
      "name": "python"
    },
    "accelerator": "GPU"
  },
  "cells": [
    {
      "cell_type": "markdown",
      "metadata": {
        "id": "DIBnbbcfoYm5"
      },
      "source": [
        "# 1. 라이브러리 및 데이터 로드"
      ]
    },
    {
      "cell_type": "code",
      "metadata": {
        "colab": {
          "base_uri": "https://localhost:8080/",
          "height": 35
        },
        "id": "oLITcDgI73Fs",
        "outputId": "4076bddb-034e-4aa0-dd4d-f2e9eeb4cfc8"
      },
      "source": [
        "import os\n",
        "os.getcwd()"
      ],
      "execution_count": 1,
      "outputs": [
        {
          "output_type": "execute_result",
          "data": {
            "application/vnd.google.colaboratory.intrinsic+json": {
              "type": "string"
            },
            "text/plain": [
              "'/content'"
            ]
          },
          "metadata": {
            "tags": []
          },
          "execution_count": 1
        }
      ]
    },
    {
      "cell_type": "code",
      "metadata": {
        "colab": {
          "base_uri": "https://localhost:8080/",
          "height": 35
        },
        "id": "Wqd8F7rp8xEl",
        "outputId": "a6214dfe-f041-4090-8b17-072832ec5ada"
      },
      "source": [
        "os.chdir('/home')\n",
        "os.getcwd()"
      ],
      "execution_count": 2,
      "outputs": [
        {
          "output_type": "execute_result",
          "data": {
            "application/vnd.google.colaboratory.intrinsic+json": {
              "type": "string"
            },
            "text/plain": [
              "'/home'"
            ]
          },
          "metadata": {
            "tags": []
          },
          "execution_count": 2
        }
      ]
    },
    {
      "cell_type": "code",
      "metadata": {
        "id": "zmjGccib8y8z"
      },
      "source": [
        "import matplotlib.pyplot as plt\n",
        "import pandas as pd\n",
        "import numpy as np\n",
        "from datetime import datetime, timedelta\n",
        "\n",
        "import tensorflow as tf\n",
        "import tensorflow.keras as keras\n",
        "import tensorflow.keras.utils as utils"
      ],
      "execution_count": 3,
      "outputs": []
    },
    {
      "cell_type": "code",
      "metadata": {
        "id": "bTlQnuCy81yx"
      },
      "source": [
        "U_obs_raw = pd.read_csv(\"./Data/ulsan_obs_data.csv\",encoding='utf-8')\n",
        "#U_fcst_raw = pd.read_csv(\"./Data/ulsan_fcst_data.csv\",encoding='utf-8')\n",
        "D_obs_raw = pd.read_csv(\"./Data/dangjin_obs_data.csv\",encoding='utf-8')\n",
        "#D_fcst_raw = pd.read_csv(\"./Data/dangjin_fcst_data.csv\",encoding='utf-8')"
      ],
      "execution_count": 4,
      "outputs": []
    },
    {
      "cell_type": "code",
      "metadata": {
        "id": "Hcb-sVxI84Lc"
      },
      "source": [
        "ener_and_rad = pd.read_csv(\"./Data/energy+일사량join.csv\", encoding='cp949')"
      ],
      "execution_count": 5,
      "outputs": []
    },
    {
      "cell_type": "markdown",
      "metadata": {
        "id": "hf2BPgz1p0tw"
      },
      "source": [
        "# 2. 데이터 전처리"
      ]
    },
    {
      "cell_type": "code",
      "metadata": {
        "id": "u1tygw6fiuRZ"
      },
      "source": [
        "def data_preprocess (X, Y, place, var_list):\n",
        "  dataset_X = X\n",
        "  dataset_Y = Y\n",
        "  if place == \"ulsan\":\n",
        "    p = \"경주일사\"\n",
        "  else:\n",
        "    p = \"서산일사\"\n",
        "  full_var_list = []\n",
        "  full_var_list.extend(var_list)\n",
        "  full_var_list.append(place)\n",
        "\n",
        "  dataset_X[\"일시\"] = pd.to_datetime(dataset_X[\"일시\"])\n",
        "  dataset_Y[\"time\"] = pd.to_datetime(dataset_Y[\"time\"])\n",
        "\n",
        "  data4rad_obs_pd = pd.merge(dataset_X,dataset_Y[['time',place,p]],how='left',left_on='일시',right_on='time')\n",
        "  data4rad_obs_pd[\"시간\"] = data4rad_obs_pd[\"일시\"].dt.hour #예측하는 시점의 '시'만 떼서 넣을 예정\n",
        "\n",
        "  #8시에서 18시까지만\n",
        "  day_idx1 = data4rad_obs_pd[\"시간\"] >= 8\n",
        "  day_idx2 = data4rad_obs_pd[\"시간\"] <= 18\n",
        "  data4rad_obs_pd = data4rad_obs_pd[day_idx1]\n",
        "  data4rad_obs_pd = data4rad_obs_pd[day_idx2]\n",
        "  for i in full_var_list:\n",
        "    data4rad_obs_pd = data4rad_obs_pd[data4rad_obs_pd[i].notna()]\n",
        "  \n",
        "  for idx in full_var_list:\n",
        "    print(idx,end=\" : \")\n",
        "    print(sum(data4rad_obs_pd[idx].isna()))\n",
        "\n",
        "  print(len(data4rad_obs_pd))\n",
        "\n",
        "  data4rad_obs_pd = data4rad_obs_pd[full_var_list]\n",
        "\n",
        "  #되돌리기 용\n",
        "  min_ = min(data4rad_obs_pd[place])\n",
        "  max_ = max(data4rad_obs_pd[place])\n",
        "\n",
        "  for i in full_var_list:\n",
        "    min_x = min(data4rad_obs_pd[i])\n",
        "    max_x = max(data4rad_obs_pd[i])\n",
        "    diff_ = max_x - min_x\n",
        "\n",
        "    data4rad_obs_pd[i] = data4rad_obs_pd[i]-min_x\n",
        "    data4rad_obs_pd[i] = data4rad_obs_pd[i]/diff_\n",
        "  print(full_var_list)\n",
        "\n",
        "  return data4rad_obs_pd, min_, max_ \n"
      ],
      "execution_count": 6,
      "outputs": []
    },
    {
      "cell_type": "code",
      "metadata": {
        "id": "hW7NoMCD-Ztx"
      },
      "source": [
        "sel_D_variable = [\"기온(°C)\",'습도(%)','풍속(m/s)','서산일사']\n",
        "sel_U_variable = [\"기온(°C)\",'습도(%)','풍속(m/s)','경주일사']"
      ],
      "execution_count": 7,
      "outputs": []
    },
    {
      "cell_type": "code",
      "metadata": {
        "colab": {
          "base_uri": "https://localhost:8080/",
          "height": 563
        },
        "id": "nPZdM8hPnTXN",
        "outputId": "7f09cade-d429-4bfb-9a97-aac4168b6e55"
      },
      "source": [
        "data4rad_D_obs_pd, min_D, max_D = data_preprocess(D_obs_raw, ener_and_rad, \"dangjin\",sel_D_variable)\n",
        "data4rad_D_obs_pd"
      ],
      "execution_count": 8,
      "outputs": [
        {
          "output_type": "stream",
          "text": [
            "기온(°C) : 0\n",
            "습도(%) : 0\n",
            "풍속(m/s) : 0\n",
            "서산일사 : 0\n",
            "dangjin : 0\n",
            "11671\n",
            "['기온(°C)', '습도(%)', '풍속(m/s)', '서산일사', 'dangjin']\n"
          ],
          "name": "stdout"
        },
        {
          "output_type": "stream",
          "text": [
            "/usr/local/lib/python3.7/dist-packages/ipykernel_launcher.py:22: UserWarning: Boolean Series key will be reindexed to match DataFrame index.\n"
          ],
          "name": "stderr"
        },
        {
          "output_type": "execute_result",
          "data": {
            "text/html": [
              "<div>\n",
              "<style scoped>\n",
              "    .dataframe tbody tr th:only-of-type {\n",
              "        vertical-align: middle;\n",
              "    }\n",
              "\n",
              "    .dataframe tbody tr th {\n",
              "        vertical-align: top;\n",
              "    }\n",
              "\n",
              "    .dataframe thead th {\n",
              "        text-align: right;\n",
              "    }\n",
              "</style>\n",
              "<table border=\"1\" class=\"dataframe\">\n",
              "  <thead>\n",
              "    <tr style=\"text-align: right;\">\n",
              "      <th></th>\n",
              "      <th>기온(°C)</th>\n",
              "      <th>습도(%)</th>\n",
              "      <th>풍속(m/s)</th>\n",
              "      <th>서산일사</th>\n",
              "      <th>dangjin</th>\n",
              "    </tr>\n",
              "  </thead>\n",
              "  <tbody>\n",
              "    <tr>\n",
              "      <th>8</th>\n",
              "      <td>0.361854</td>\n",
              "      <td>0.808989</td>\n",
              "      <td>0.658120</td>\n",
              "      <td>0.010309</td>\n",
              "      <td>0.000000</td>\n",
              "    </tr>\n",
              "    <tr>\n",
              "      <th>9</th>\n",
              "      <td>0.349376</td>\n",
              "      <td>0.685393</td>\n",
              "      <td>0.760684</td>\n",
              "      <td>0.142268</td>\n",
              "      <td>0.042676</td>\n",
              "    </tr>\n",
              "    <tr>\n",
              "      <th>10</th>\n",
              "      <td>0.354724</td>\n",
              "      <td>0.595506</td>\n",
              "      <td>0.675214</td>\n",
              "      <td>0.294845</td>\n",
              "      <td>0.366782</td>\n",
              "    </tr>\n",
              "    <tr>\n",
              "      <th>11</th>\n",
              "      <td>0.352941</td>\n",
              "      <td>0.539326</td>\n",
              "      <td>0.777778</td>\n",
              "      <td>0.435052</td>\n",
              "      <td>0.565167</td>\n",
              "    </tr>\n",
              "    <tr>\n",
              "      <th>12</th>\n",
              "      <td>0.356506</td>\n",
              "      <td>0.561798</td>\n",
              "      <td>0.572650</td>\n",
              "      <td>0.529897</td>\n",
              "      <td>0.634371</td>\n",
              "    </tr>\n",
              "    <tr>\n",
              "      <th>...</th>\n",
              "      <td>...</td>\n",
              "      <td>...</td>\n",
              "      <td>...</td>\n",
              "      <td>...</td>\n",
              "      <td>...</td>\n",
              "    </tr>\n",
              "    <tr>\n",
              "      <th>25616</th>\n",
              "      <td>0.540107</td>\n",
              "      <td>0.539326</td>\n",
              "      <td>0.435897</td>\n",
              "      <td>0.358763</td>\n",
              "      <td>0.539792</td>\n",
              "    </tr>\n",
              "    <tr>\n",
              "      <th>25617</th>\n",
              "      <td>0.529412</td>\n",
              "      <td>0.561798</td>\n",
              "      <td>0.427350</td>\n",
              "      <td>0.282474</td>\n",
              "      <td>0.405998</td>\n",
              "    </tr>\n",
              "    <tr>\n",
              "      <th>25618</th>\n",
              "      <td>0.518717</td>\n",
              "      <td>0.573034</td>\n",
              "      <td>0.316239</td>\n",
              "      <td>0.150515</td>\n",
              "      <td>0.301038</td>\n",
              "    </tr>\n",
              "    <tr>\n",
              "      <th>25619</th>\n",
              "      <td>0.511586</td>\n",
              "      <td>0.595506</td>\n",
              "      <td>0.307692</td>\n",
              "      <td>0.049485</td>\n",
              "      <td>0.093426</td>\n",
              "    </tr>\n",
              "    <tr>\n",
              "      <th>25620</th>\n",
              "      <td>0.483066</td>\n",
              "      <td>0.674157</td>\n",
              "      <td>0.170940</td>\n",
              "      <td>0.008247</td>\n",
              "      <td>0.000000</td>\n",
              "    </tr>\n",
              "  </tbody>\n",
              "</table>\n",
              "<p>11671 rows × 5 columns</p>\n",
              "</div>"
            ],
            "text/plain": [
              "         기온(°C)     습도(%)   풍속(m/s)      서산일사   dangjin\n",
              "8      0.361854  0.808989  0.658120  0.010309  0.000000\n",
              "9      0.349376  0.685393  0.760684  0.142268  0.042676\n",
              "10     0.354724  0.595506  0.675214  0.294845  0.366782\n",
              "11     0.352941  0.539326  0.777778  0.435052  0.565167\n",
              "12     0.356506  0.561798  0.572650  0.529897  0.634371\n",
              "...         ...       ...       ...       ...       ...\n",
              "25616  0.540107  0.539326  0.435897  0.358763  0.539792\n",
              "25617  0.529412  0.561798  0.427350  0.282474  0.405998\n",
              "25618  0.518717  0.573034  0.316239  0.150515  0.301038\n",
              "25619  0.511586  0.595506  0.307692  0.049485  0.093426\n",
              "25620  0.483066  0.674157  0.170940  0.008247  0.000000\n",
              "\n",
              "[11671 rows x 5 columns]"
            ]
          },
          "metadata": {
            "tags": []
          },
          "execution_count": 8
        }
      ]
    },
    {
      "cell_type": "code",
      "metadata": {
        "colab": {
          "base_uri": "https://localhost:8080/"
        },
        "id": "OxkyeEBDsBA8",
        "outputId": "c7c323cf-2f37-4ec1-9922-babd70831859"
      },
      "source": [
        "data4rad_DF_obs_pd, min_DF, max_DF = data_preprocess(D_obs_raw, ener_and_rad, \"dangjin_floating\",sel_D_variable)\n",
        "data4rad_DW_obs_pd, min_DW, max_DW = data_preprocess(D_obs_raw, ener_and_rad, \"dangjin_warehouse\",sel_D_variable)\n",
        "data4rad_U_obs_pd, min_U, max_U = data_preprocess(D_obs_raw, ener_and_rad, \"ulsan\",sel_U_variable)"
      ],
      "execution_count": 9,
      "outputs": [
        {
          "output_type": "stream",
          "text": [
            "기온(°C) : 0\n",
            "습도(%) : 0\n",
            "풍속(m/s) : 0\n",
            "서산일사 : 0\n",
            "dangjin_floating : 0\n",
            "11660\n",
            "['기온(°C)', '습도(%)', '풍속(m/s)', '서산일사', 'dangjin_floating']\n",
            "기온(°C) : 0\n",
            "습도(%) : 0\n",
            "풍속(m/s) : 0\n",
            "서산일사 : 0\n",
            "dangjin_warehouse : 0\n",
            "11649\n",
            "['기온(°C)', '습도(%)', '풍속(m/s)', '서산일사', 'dangjin_warehouse']\n",
            "기온(°C) : 0\n",
            "습도(%) : 0\n",
            "풍속(m/s) : 0\n",
            "경주일사 : 0\n",
            "ulsan : 0\n",
            "11671\n",
            "['기온(°C)', '습도(%)', '풍속(m/s)', '경주일사', 'ulsan']\n"
          ],
          "name": "stdout"
        },
        {
          "output_type": "stream",
          "text": [
            "/usr/local/lib/python3.7/dist-packages/ipykernel_launcher.py:22: UserWarning: Boolean Series key will be reindexed to match DataFrame index.\n",
            "/usr/local/lib/python3.7/dist-packages/ipykernel_launcher.py:22: UserWarning: Boolean Series key will be reindexed to match DataFrame index.\n",
            "/usr/local/lib/python3.7/dist-packages/ipykernel_launcher.py:22: UserWarning: Boolean Series key will be reindexed to match DataFrame index.\n"
          ],
          "name": "stderr"
        }
      ]
    },
    {
      "cell_type": "code",
      "metadata": {
        "id": "neGMxbqJEpbr"
      },
      "source": [
        "def make_dataset(data, label):\n",
        "   feature_list = []\n",
        "   label_list = []\n",
        "   for i in range(len(data) -77 -22):\n",
        "       feature_list.append(np.array(data.iloc[i:i+77]))\n",
        "       label_list.append(np.array(label.iloc[i+77 :i+77+22 ]))\n",
        "   return np.array(feature_list), np.array(label_list)"
      ],
      "execution_count": 10,
      "outputs": []
    },
    {
      "cell_type": "code",
      "metadata": {
        "colab": {
          "base_uri": "https://localhost:8080/"
        },
        "id": "ltvENUQBR7T4",
        "outputId": "dd8b15d4-ef6e-4ff9-81fe-f4899d440da9"
      },
      "source": [
        "data4rad_np_x, data4rad_np_y = make_dataset(data4rad_D_obs_pd[[\"기온(°C)\",'습도(%)','풍속(m/s)','서산일사']],data4rad_D_obs_pd[\"dangjin\"])\n",
        "data4rad_np_x1, data4rad_np_y1 = make_dataset(data4rad_DF_obs_pd[[\"기온(°C)\",'습도(%)','풍속(m/s)','서산일사']],data4rad_DF_obs_pd[\"dangjin_floating\"])\n",
        "data4rad_np_x2, data4rad_np_y2 = make_dataset(data4rad_DW_obs_pd[[\"기온(°C)\",'습도(%)','풍속(m/s)','서산일사']],data4rad_DW_obs_pd[\"dangjin_warehouse\"])\n",
        "data4rad_np_x3, data4rad_np_y3 = make_dataset(data4rad_U_obs_pd[[\"기온(°C)\",'습도(%)','풍속(m/s)','경주일사']],data4rad_U_obs_pd[\"ulsan\"])\n",
        "\n",
        "print('X:{} Y:{}'.format(data4rad_np_x.shape,data4rad_np_y.shape))\n",
        "data4rad_np_x"
      ],
      "execution_count": 11,
      "outputs": [
        {
          "output_type": "stream",
          "text": [
            "X:(11572, 77, 4) Y:(11572, 22)\n"
          ],
          "name": "stdout"
        },
        {
          "output_type": "execute_result",
          "data": {
            "text/plain": [
              "array([[[0.36185383, 0.80898876, 0.65811966, 0.01030928],\n",
              "        [0.34937611, 0.68539326, 0.76068376, 0.14226804],\n",
              "        [0.35472371, 0.59550562, 0.67521368, 0.29484536],\n",
              "        ...,\n",
              "        [0.53832442, 0.34831461, 0.13675214, 0.20824742],\n",
              "        [0.49197861, 0.52808989, 0.25641026, 0.09896907],\n",
              "        [0.48128342, 0.53932584, 0.1965812 , 0.02886598]],\n",
              "\n",
              "       [[0.34937611, 0.68539326, 0.76068376, 0.14226804],\n",
              "        [0.35472371, 0.59550562, 0.67521368, 0.29484536],\n",
              "        [0.35294118, 0.53932584, 0.77777778, 0.43505155],\n",
              "        ...,\n",
              "        [0.49197861, 0.52808989, 0.25641026, 0.09896907],\n",
              "        [0.48128342, 0.53932584, 0.1965812 , 0.02886598],\n",
              "        [0.39393939, 0.96629213, 0.26495726, 0.00412371]],\n",
              "\n",
              "       [[0.35472371, 0.59550562, 0.67521368, 0.29484536],\n",
              "        [0.35294118, 0.53932584, 0.77777778, 0.43505155],\n",
              "        [0.35650624, 0.56179775, 0.57264957, 0.52989691],\n",
              "        ...,\n",
              "        [0.48128342, 0.53932584, 0.1965812 , 0.02886598],\n",
              "        [0.39393939, 0.96629213, 0.26495726, 0.00412371],\n",
              "        [0.40285205, 0.97752809, 0.28205128, 0.02886598]],\n",
              "\n",
              "       ...,\n",
              "\n",
              "       [[0.44385027, 0.96629213, 0.1965812 , 0.03505155],\n",
              "        [0.43850267, 0.95505618, 0.16239316, 0.02268041],\n",
              "        [0.43850267, 0.94382022, 0.12820513, 0.00206186],\n",
              "        ...,\n",
              "        [0.2745098 , 0.43820225, 0.18803419, 0.4556701 ],\n",
              "        [0.28520499, 0.43820225, 0.25641026, 0.44536082],\n",
              "        [0.29055258, 0.43820225, 0.35042735, 0.38556701]],\n",
              "\n",
              "       [[0.43850267, 0.95505618, 0.16239316, 0.02268041],\n",
              "        [0.43850267, 0.94382022, 0.12820513, 0.00206186],\n",
              "        [0.42780749, 0.86516854, 0.16239316, 0.        ],\n",
              "        ...,\n",
              "        [0.28520499, 0.43820225, 0.25641026, 0.44536082],\n",
              "        [0.29055258, 0.43820225, 0.35042735, 0.38556701],\n",
              "        [0.28342246, 0.42696629, 0.30769231, 0.28865979]],\n",
              "\n",
              "       [[0.43850267, 0.94382022, 0.12820513, 0.00206186],\n",
              "        [0.42780749, 0.86516854, 0.16239316, 0.        ],\n",
              "        [0.44741533, 0.79775281, 0.35042735, 0.05154639],\n",
              "        ...,\n",
              "        [0.29055258, 0.43820225, 0.35042735, 0.38556701],\n",
              "        [0.28342246, 0.42696629, 0.30769231, 0.28865979],\n",
              "        [0.27807487, 0.46067416, 0.22222222, 0.15463918]]])"
            ]
          },
          "metadata": {
            "tags": []
          },
          "execution_count": 11
        }
      ]
    },
    {
      "cell_type": "markdown",
      "metadata": {
        "id": "Rs_QEYN-p7sW"
      },
      "source": [
        "# 3. 모델 만들기"
      ]
    },
    {
      "cell_type": "code",
      "metadata": {
        "id": "wucq0C9kBoTX"
      },
      "source": [
        "def makemodel(lr=0.01):\n",
        "  model_= keras.Sequential()\n",
        "\n",
        "  model_.add(keras.layers.LSTM(64,activation='relu',return_sequences=True,input_shape=(77,4)))\n",
        "  model_.add(keras.layers.Flatten())\n",
        "  model_.add(keras.layers.Dense(22))\n",
        "\n",
        "  print(model_.output_shape)\n",
        "\n",
        "  opti = keras.optimizers.Adam(lr)\n",
        "  model_.compile(optimizer=opti, loss = 'mse', metrics=['mse','accuracy'])\n",
        "\n",
        "  return model_"
      ],
      "execution_count": 13,
      "outputs": []
    },
    {
      "cell_type": "code",
      "metadata": {
        "colab": {
          "base_uri": "https://localhost:8080/"
        },
        "id": "Cu8QY0ygxxBy",
        "outputId": "8c15f9e6-b7f2-458c-922d-6313683885ab"
      },
      "source": [
        "model_D = makemodel()\n",
        "model_DF = makemodel()\n",
        "model_DW = makemodel()\n",
        "model_U = makemodel()"
      ],
      "execution_count": 14,
      "outputs": [
        {
          "output_type": "stream",
          "text": [
            "WARNING:tensorflow:Layer lstm will not use cuDNN kernels since it doesn't meet the criteria. It will use a generic GPU kernel as fallback when running on GPU.\n",
            "(None, 22)\n",
            "WARNING:tensorflow:Layer lstm_1 will not use cuDNN kernels since it doesn't meet the criteria. It will use a generic GPU kernel as fallback when running on GPU.\n",
            "(None, 22)\n",
            "WARNING:tensorflow:Layer lstm_2 will not use cuDNN kernels since it doesn't meet the criteria. It will use a generic GPU kernel as fallback when running on GPU.\n",
            "(None, 22)\n",
            "WARNING:tensorflow:Layer lstm_3 will not use cuDNN kernels since it doesn't meet the criteria. It will use a generic GPU kernel as fallback when running on GPU.\n",
            "(None, 22)\n"
          ],
          "name": "stdout"
        }
      ]
    },
    {
      "cell_type": "code",
      "metadata": {
        "colab": {
          "base_uri": "https://localhost:8080/"
        },
        "id": "dJ9Mh3DhIC_p",
        "outputId": "6377a73e-5207-4e7a-8617-3615113d993a"
      },
      "source": [
        "model_D.summary()"
      ],
      "execution_count": 15,
      "outputs": [
        {
          "output_type": "stream",
          "text": [
            "Model: \"sequential\"\n",
            "_________________________________________________________________\n",
            "Layer (type)                 Output Shape              Param #   \n",
            "=================================================================\n",
            "lstm (LSTM)                  (None, 77, 64)            17664     \n",
            "_________________________________________________________________\n",
            "flatten (Flatten)            (None, 4928)              0         \n",
            "_________________________________________________________________\n",
            "dense (Dense)                (None, 22)                108438    \n",
            "=================================================================\n",
            "Total params: 126,102\n",
            "Trainable params: 126,102\n",
            "Non-trainable params: 0\n",
            "_________________________________________________________________\n"
          ],
          "name": "stdout"
        }
      ]
    },
    {
      "cell_type": "code",
      "metadata": {
        "id": "zVLCJ0FazKbc"
      },
      "source": [
        "#체크포인트 저장 위치 & 파일명\n",
        "ckpt_path = \"./ckpt/dangjin/D-training-{epoch:03d}.ckpt\"\n",
        "ckpt_path1 = \"./ckpt/dangjin_floating/DF-training-{epoch:03d}.ckpt\"\n",
        "ckpt_path2 = \"./ckpt/dangjin_warehouse/DW-training-{epoch:03d}.ckpt\"\n",
        "ckpt_path3 = \"./ckpt/ulsan/U-training-{epoch:03d}.ckpt\""
      ],
      "execution_count": 16,
      "outputs": []
    },
    {
      "cell_type": "code",
      "metadata": {
        "id": "ZR_P_GsSzM1B"
      },
      "source": [
        "#콜백 지정\n",
        "cp_callback = keras.callbacks.ModelCheckpoint(\n",
        "    filepath=ckpt_path,\n",
        "    monitor=\"val_loss\",\n",
        "    verbose=1, \n",
        "    save_weights_only=True,\n",
        "    save_best_only=True)\n",
        "\n",
        "cp_callback1 = keras.callbacks.ModelCheckpoint(\n",
        "    filepath=ckpt_path1,\n",
        "    monitor=\"val_loss\",\n",
        "    verbose=1, \n",
        "    save_weights_only=True,\n",
        "    save_best_only=True)\n",
        "\n",
        "cp_callback2 = keras.callbacks.ModelCheckpoint(\n",
        "    filepath=ckpt_path2,\n",
        "    monitor=\"val_loss\",\n",
        "    verbose=1, \n",
        "    save_weights_only=True,\n",
        "    save_best_only=True)\n",
        "\n",
        "cp_callback3 = keras.callbacks.ModelCheckpoint(\n",
        "    filepath=ckpt_path3,\n",
        "    monitor=\"val_loss\",\n",
        "    verbose=1, \n",
        "    save_weights_only=True,\n",
        "    save_best_only=True)"
      ],
      "execution_count": 17,
      "outputs": []
    },
    {
      "cell_type": "code",
      "metadata": {
        "colab": {
          "base_uri": "https://localhost:8080/"
        },
        "id": "LQCDP-4WIEpe",
        "outputId": "f9d55e82-6798-4ed0-b70c-63129e1aea52"
      },
      "source": [
        "history_D = model_D.fit(data4rad_np_x,\n",
        "                        data4rad_np_y,\n",
        "                        batch_size=64,\n",
        "                        epochs = 20,\n",
        "                        callbacks=[cp_callback],\n",
        "                        validation_split = 0.2,\n",
        "                        validation_batch_size=64,\n",
        "                        verbose = 0)#'verbose = 0'옵션으로 진행바 출력 안함!"
      ],
      "execution_count": 19,
      "outputs": [
        {
          "output_type": "stream",
          "text": [
            "\n",
            "Epoch 00001: val_loss improved from inf to 0.04021, saving model to ./ckpt/dangjin/D-training-001.ckpt\n",
            "\n",
            "Epoch 00002: val_loss did not improve from 0.04021\n",
            "\n",
            "Epoch 00003: val_loss improved from 0.04021 to 0.03863, saving model to ./ckpt/dangjin/D-training-003.ckpt\n",
            "\n",
            "Epoch 00004: val_loss did not improve from 0.03863\n",
            "\n",
            "Epoch 00005: val_loss improved from 0.03863 to 0.03809, saving model to ./ckpt/dangjin/D-training-005.ckpt\n",
            "\n",
            "Epoch 00006: val_loss did not improve from 0.03809\n",
            "\n",
            "Epoch 00007: val_loss did not improve from 0.03809\n",
            "\n",
            "Epoch 00008: val_loss improved from 0.03809 to 0.03803, saving model to ./ckpt/dangjin/D-training-008.ckpt\n",
            "\n",
            "Epoch 00009: val_loss did not improve from 0.03803\n",
            "\n",
            "Epoch 00010: val_loss did not improve from 0.03803\n",
            "\n",
            "Epoch 00011: val_loss improved from 0.03803 to 0.03790, saving model to ./ckpt/dangjin/D-training-011.ckpt\n",
            "\n",
            "Epoch 00012: val_loss improved from 0.03790 to 0.03734, saving model to ./ckpt/dangjin/D-training-012.ckpt\n",
            "\n",
            "Epoch 00013: val_loss improved from 0.03734 to 0.03706, saving model to ./ckpt/dangjin/D-training-013.ckpt\n",
            "\n",
            "Epoch 00014: val_loss did not improve from 0.03706\n",
            "\n",
            "Epoch 00015: val_loss did not improve from 0.03706\n",
            "\n",
            "Epoch 00016: val_loss did not improve from 0.03706\n",
            "\n",
            "Epoch 00017: val_loss did not improve from 0.03706\n",
            "\n",
            "Epoch 00018: val_loss did not improve from 0.03706\n",
            "\n",
            "Epoch 00019: val_loss did not improve from 0.03706\n",
            "\n",
            "Epoch 00020: val_loss did not improve from 0.03706\n"
          ],
          "name": "stdout"
        }
      ]
    },
    {
      "cell_type": "code",
      "metadata": {
        "colab": {
          "base_uri": "https://localhost:8080/"
        },
        "id": "RZd80AhozXRm",
        "outputId": "15034773-fd53-481f-9e35-d54accc0d0e6"
      },
      "source": [
        "history_DF = model_DF.fit(data4rad_np_x1,\n",
        "                        data4rad_np_y1,\n",
        "                        batch_size=64,\n",
        "                        epochs = 20,\n",
        "                        callbacks=[cp_callback1],\n",
        "                        validation_split = 0.2,\n",
        "                        validation_batch_size=64,\n",
        "                        verbose = 0)#'verbose = 0'옵션으로 진행바 출력 안함!"
      ],
      "execution_count": 20,
      "outputs": [
        {
          "output_type": "stream",
          "text": [
            "\n",
            "Epoch 00001: val_loss improved from inf to 0.03866, saving model to ./ckpt/dangjin_floating/DF-training-001.ckpt\n",
            "\n",
            "Epoch 00002: val_loss improved from 0.03866 to 0.03793, saving model to ./ckpt/dangjin_floating/DF-training-002.ckpt\n",
            "\n",
            "Epoch 00003: val_loss improved from 0.03793 to 0.03741, saving model to ./ckpt/dangjin_floating/DF-training-003.ckpt\n",
            "\n",
            "Epoch 00004: val_loss improved from 0.03741 to 0.03685, saving model to ./ckpt/dangjin_floating/DF-training-004.ckpt\n",
            "\n",
            "Epoch 00005: val_loss improved from 0.03685 to 0.03615, saving model to ./ckpt/dangjin_floating/DF-training-005.ckpt\n",
            "\n",
            "Epoch 00006: val_loss improved from 0.03615 to 0.03607, saving model to ./ckpt/dangjin_floating/DF-training-006.ckpt\n",
            "\n",
            "Epoch 00007: val_loss improved from 0.03607 to 0.03570, saving model to ./ckpt/dangjin_floating/DF-training-007.ckpt\n",
            "\n",
            "Epoch 00008: val_loss improved from 0.03570 to 0.03546, saving model to ./ckpt/dangjin_floating/DF-training-008.ckpt\n",
            "\n",
            "Epoch 00009: val_loss did not improve from 0.03546\n",
            "\n",
            "Epoch 00010: val_loss did not improve from 0.03546\n",
            "\n",
            "Epoch 00011: val_loss did not improve from 0.03546\n",
            "\n",
            "Epoch 00012: val_loss did not improve from 0.03546\n",
            "\n",
            "Epoch 00013: val_loss did not improve from 0.03546\n",
            "\n",
            "Epoch 00014: val_loss did not improve from 0.03546\n",
            "\n",
            "Epoch 00015: val_loss did not improve from 0.03546\n",
            "\n",
            "Epoch 00016: val_loss did not improve from 0.03546\n",
            "\n",
            "Epoch 00017: val_loss did not improve from 0.03546\n",
            "\n",
            "Epoch 00018: val_loss did not improve from 0.03546\n",
            "\n",
            "Epoch 00019: val_loss did not improve from 0.03546\n",
            "\n",
            "Epoch 00020: val_loss did not improve from 0.03546\n"
          ],
          "name": "stdout"
        }
      ]
    },
    {
      "cell_type": "code",
      "metadata": {
        "colab": {
          "base_uri": "https://localhost:8080/"
        },
        "id": "6qUznCFfzX4K",
        "outputId": "4bc43367-8c02-46b7-9bc8-11de093a3e62"
      },
      "source": [
        "history_DW = model_DW.fit(data4rad_np_x2,\n",
        "                        data4rad_np_y2,\n",
        "                        batch_size=64,\n",
        "                        epochs = 20,\n",
        "                        callbacks=[cp_callback2],\n",
        "                        validation_split = 0.2,\n",
        "                        validation_batch_size=64,\n",
        "                        verbose = 0)#'verbose = 0'옵션으로 진행바 출력 안함!"
      ],
      "execution_count": 21,
      "outputs": [
        {
          "output_type": "stream",
          "text": [
            "\n",
            "Epoch 00001: val_loss improved from inf to 0.04004, saving model to ./ckpt/dangjin_warehoyse/DW-training-001.ckpt\n",
            "\n",
            "Epoch 00002: val_loss improved from 0.04004 to 0.03939, saving model to ./ckpt/dangjin_warehoyse/DW-training-002.ckpt\n",
            "\n",
            "Epoch 00003: val_loss improved from 0.03939 to 0.03768, saving model to ./ckpt/dangjin_warehoyse/DW-training-003.ckpt\n",
            "\n",
            "Epoch 00004: val_loss improved from 0.03768 to 0.03737, saving model to ./ckpt/dangjin_warehoyse/DW-training-004.ckpt\n",
            "\n",
            "Epoch 00005: val_loss improved from 0.03737 to 0.03684, saving model to ./ckpt/dangjin_warehoyse/DW-training-005.ckpt\n",
            "\n",
            "Epoch 00006: val_loss did not improve from 0.03684\n",
            "\n",
            "Epoch 00007: val_loss did not improve from 0.03684\n",
            "\n",
            "Epoch 00008: val_loss did not improve from 0.03684\n",
            "\n",
            "Epoch 00009: val_loss did not improve from 0.03684\n",
            "\n",
            "Epoch 00010: val_loss improved from 0.03684 to 0.03570, saving model to ./ckpt/dangjin_warehoyse/DW-training-010.ckpt\n",
            "\n",
            "Epoch 00011: val_loss did not improve from 0.03570\n",
            "\n",
            "Epoch 00012: val_loss did not improve from 0.03570\n",
            "\n",
            "Epoch 00013: val_loss did not improve from 0.03570\n",
            "\n",
            "Epoch 00014: val_loss did not improve from 0.03570\n",
            "\n",
            "Epoch 00015: val_loss improved from 0.03570 to 0.03568, saving model to ./ckpt/dangjin_warehoyse/DW-training-015.ckpt\n",
            "\n",
            "Epoch 00016: val_loss did not improve from 0.03568\n",
            "\n",
            "Epoch 00017: val_loss did not improve from 0.03568\n",
            "\n",
            "Epoch 00018: val_loss did not improve from 0.03568\n",
            "\n",
            "Epoch 00019: val_loss did not improve from 0.03568\n",
            "\n",
            "Epoch 00020: val_loss did not improve from 0.03568\n"
          ],
          "name": "stdout"
        }
      ]
    },
    {
      "cell_type": "code",
      "metadata": {
        "colab": {
          "base_uri": "https://localhost:8080/"
        },
        "id": "POyS8zj-zYf7",
        "outputId": "89900e59-45ee-4c8b-e1cc-e1690bed5e94"
      },
      "source": [
        "history_U = model_U.fit(data4rad_np_x3,\n",
        "                        data4rad_np_y3,\n",
        "                        batch_size=64,\n",
        "                        epochs = 20,\n",
        "                        callbacks=[cp_callback3],\n",
        "                        validation_split = 0.2,\n",
        "                        validation_batch_size=64,\n",
        "                        verbose = 0)#'verbose = 0'옵션으로 진행바 출력 안함!"
      ],
      "execution_count": 22,
      "outputs": [
        {
          "output_type": "stream",
          "text": [
            "\n",
            "Epoch 00001: val_loss improved from inf to 0.03730, saving model to ./ckpt/ulsan/U-training-001.ckpt\n",
            "\n",
            "Epoch 00002: val_loss improved from 0.03730 to 0.03581, saving model to ./ckpt/ulsan/U-training-002.ckpt\n",
            "\n",
            "Epoch 00003: val_loss did not improve from 0.03581\n",
            "\n",
            "Epoch 00004: val_loss improved from 0.03581 to 0.03552, saving model to ./ckpt/ulsan/U-training-004.ckpt\n",
            "\n",
            "Epoch 00005: val_loss did not improve from 0.03552\n",
            "\n",
            "Epoch 00006: val_loss did not improve from 0.03552\n",
            "\n",
            "Epoch 00007: val_loss did not improve from 0.03552\n",
            "\n",
            "Epoch 00008: val_loss improved from 0.03552 to 0.03543, saving model to ./ckpt/ulsan/U-training-008.ckpt\n",
            "\n",
            "Epoch 00009: val_loss did not improve from 0.03543\n",
            "\n",
            "Epoch 00010: val_loss did not improve from 0.03543\n",
            "\n",
            "Epoch 00011: val_loss did not improve from 0.03543\n",
            "\n",
            "Epoch 00012: val_loss did not improve from 0.03543\n",
            "\n",
            "Epoch 00013: val_loss did not improve from 0.03543\n",
            "\n",
            "Epoch 00014: val_loss did not improve from 0.03543\n",
            "\n",
            "Epoch 00015: val_loss improved from 0.03543 to 0.03530, saving model to ./ckpt/ulsan/U-training-015.ckpt\n",
            "\n",
            "Epoch 00016: val_loss did not improve from 0.03530\n",
            "\n",
            "Epoch 00017: val_loss did not improve from 0.03530\n",
            "\n",
            "Epoch 00018: val_loss did not improve from 0.03530\n",
            "\n",
            "Epoch 00019: val_loss did not improve from 0.03530\n",
            "\n",
            "Epoch 00020: val_loss did not improve from 0.03530\n"
          ],
          "name": "stdout"
        }
      ]
    },
    {
      "cell_type": "markdown",
      "metadata": {
        "id": "XfgLqUXIqcXv"
      },
      "source": [
        "## 모델 불러오기(ckpt가 있다면)"
      ]
    },
    {
      "cell_type": "code",
      "metadata": {
        "colab": {
          "base_uri": "https://localhost:8080/"
        },
        "id": "LbrnpJbIqXjn",
        "outputId": "5ffa151e-2c57-40f5-9698-f14bd3856554"
      },
      "source": [
        "model_D = makemodel()\n",
        "model_DF = makemodel()\n",
        "model_DW = makemodel()\n",
        "model_U = makemodel()"
      ],
      "execution_count": 32,
      "outputs": [
        {
          "output_type": "stream",
          "text": [
            "WARNING:tensorflow:Layer lstm will not use cuDNN kernels since it doesn't meet the criteria. It will use a generic GPU kernel as fallback when running on GPU.\n",
            "model input : (None, 77, 4) \n",
            " model output : (None, 22)\n",
            "Model: \"sequential\"\n",
            "_________________________________________________________________\n",
            "Layer (type)                 Output Shape              Param #   \n",
            "=================================================================\n",
            "lstm (LSTM)                  (None, 77, 64)            17664     \n",
            "_________________________________________________________________\n",
            "flatten (Flatten)            (None, 4928)              0         \n",
            "_________________________________________________________________\n",
            "dense (Dense)                (None, 22)                108438    \n",
            "=================================================================\n",
            "Total params: 126,102\n",
            "Trainable params: 126,102\n",
            "Non-trainable params: 0\n",
            "_________________________________________________________________\n"
          ],
          "name": "stdout"
        }
      ]
    },
    {
      "cell_type": "code",
      "metadata": {
        "colab": {
          "base_uri": "https://localhost:8080/"
        },
        "id": "h2gPZvehsj_m",
        "outputId": "eb65b168-6bf0-4a2f-9a25-9e59123f0033"
      },
      "source": [
        "model_D.load_weights(\"./ckpt/D-training-014.ckpt\")\n",
        "model_DF.load_weights(\"./ckpt/dangjin_floating/DF-training-008.ckpt\")\n",
        "model_DW.load_weights(\"./ckpt/dangjin_warehouse/DW-training-015.ckpt\")\n",
        "model_U.load_weights(\"./ckpt/ulsan/U-training-015.ckpt\")"
      ],
      "execution_count": 33,
      "outputs": [
        {
          "output_type": "execute_result",
          "data": {
            "text/plain": [
              "<tensorflow.python.training.tracking.util.CheckpointLoadStatus at 0x7f64c0202a10>"
            ]
          },
          "metadata": {
            "tags": []
          },
          "execution_count": 33
        }
      ]
    },
    {
      "cell_type": "markdown",
      "metadata": {
        "id": "vOZ8txmOqYD-"
      },
      "source": [
        "# 4. 모델 평가"
      ]
    },
    {
      "cell_type": "code",
      "metadata": {
        "colab": {
          "base_uri": "https://localhost:8080/",
          "height": 204
        },
        "id": "zTraitSUINs1",
        "outputId": "7cfbf332-af0b-422d-ab20-d4a4b97cc436"
      },
      "source": [
        "hist = pd.DataFrame(history_D.history)\n",
        "hist['epoch'] = history_D.epoch\n",
        "hist.tail()"
      ],
      "execution_count": null,
      "outputs": [
        {
          "output_type": "execute_result",
          "data": {
            "text/html": [
              "<div>\n",
              "<style scoped>\n",
              "    .dataframe tbody tr th:only-of-type {\n",
              "        vertical-align: middle;\n",
              "    }\n",
              "\n",
              "    .dataframe tbody tr th {\n",
              "        vertical-align: top;\n",
              "    }\n",
              "\n",
              "    .dataframe thead th {\n",
              "        text-align: right;\n",
              "    }\n",
              "</style>\n",
              "<table border=\"1\" class=\"dataframe\">\n",
              "  <thead>\n",
              "    <tr style=\"text-align: right;\">\n",
              "      <th></th>\n",
              "      <th>loss</th>\n",
              "      <th>mse</th>\n",
              "      <th>accuracy</th>\n",
              "      <th>val_loss</th>\n",
              "      <th>val_mse</th>\n",
              "      <th>val_accuracy</th>\n",
              "      <th>epoch</th>\n",
              "    </tr>\n",
              "  </thead>\n",
              "  <tbody>\n",
              "    <tr>\n",
              "      <th>15</th>\n",
              "      <td>0.033940</td>\n",
              "      <td>0.033940</td>\n",
              "      <td>0.264773</td>\n",
              "      <td>0.039337</td>\n",
              "      <td>0.039337</td>\n",
              "      <td>0.254428</td>\n",
              "      <td>15</td>\n",
              "    </tr>\n",
              "    <tr>\n",
              "      <th>16</th>\n",
              "      <td>0.033870</td>\n",
              "      <td>0.033870</td>\n",
              "      <td>0.273199</td>\n",
              "      <td>0.039603</td>\n",
              "      <td>0.039603</td>\n",
              "      <td>0.244060</td>\n",
              "      <td>16</td>\n",
              "    </tr>\n",
              "    <tr>\n",
              "      <th>17</th>\n",
              "      <td>0.033630</td>\n",
              "      <td>0.033630</td>\n",
              "      <td>0.266609</td>\n",
              "      <td>0.039041</td>\n",
              "      <td>0.039041</td>\n",
              "      <td>0.256587</td>\n",
              "      <td>17</td>\n",
              "    </tr>\n",
              "    <tr>\n",
              "      <th>18</th>\n",
              "      <td>0.033558</td>\n",
              "      <td>0.033558</td>\n",
              "      <td>0.264016</td>\n",
              "      <td>0.038476</td>\n",
              "      <td>0.038476</td>\n",
              "      <td>0.273434</td>\n",
              "      <td>18</td>\n",
              "    </tr>\n",
              "    <tr>\n",
              "      <th>19</th>\n",
              "      <td>0.033394</td>\n",
              "      <td>0.033394</td>\n",
              "      <td>0.269418</td>\n",
              "      <td>0.040714</td>\n",
              "      <td>0.040714</td>\n",
              "      <td>0.255292</td>\n",
              "      <td>19</td>\n",
              "    </tr>\n",
              "  </tbody>\n",
              "</table>\n",
              "</div>"
            ],
            "text/plain": [
              "        loss       mse  accuracy  val_loss   val_mse  val_accuracy  epoch\n",
              "15  0.033940  0.033940  0.264773  0.039337  0.039337      0.254428     15\n",
              "16  0.033870  0.033870  0.273199  0.039603  0.039603      0.244060     16\n",
              "17  0.033630  0.033630  0.266609  0.039041  0.039041      0.256587     17\n",
              "18  0.033558  0.033558  0.264016  0.038476  0.038476      0.273434     18\n",
              "19  0.033394  0.033394  0.269418  0.040714  0.040714      0.255292     19"
            ]
          },
          "metadata": {
            "tags": []
          },
          "execution_count": 52
        }
      ]
    },
    {
      "cell_type": "code",
      "metadata": {
        "colab": {
          "base_uri": "https://localhost:8080/",
          "height": 295
        },
        "id": "QdURkPbuQVA7",
        "outputId": "a01578a4-af98-4a2a-f742-d8d1f74191e2"
      },
      "source": [
        "epochs = range(1, len(hist[\"mse\"]) + 1)\n",
        "\n",
        "# \"bo\"는 \"파란색 점\"입니다\n",
        "plt.plot(epochs, hist[\"mse\"], 'bo', label='Training MSE')\n",
        "# b는 \"파란 실선\"입니다\n",
        "plt.plot(epochs, hist[\"val_mse\"], 'b', label='Validation MSE')\n",
        "plt.title('Training and validation MSE')\n",
        "plt.xlabel('Epochs')\n",
        "plt.ylabel('MSE')\n",
        "plt.legend()\n",
        "\n",
        "plt.show()"
      ],
      "execution_count": null,
      "outputs": [
        {
          "output_type": "display_data",
          "data": {
            "image/png": "[encoded data removed]",
            "text/plain": [
              "<Figure size 432x288 with 1 Axes>"
            ]
          },
          "metadata": {
            "tags": [],
            "needs_background": "light"
          }
        }
      ]
    },
    {
      "cell_type": "code",
      "metadata": {
        "id": "sIvR-Q9yTvj-"
      },
      "source": [
        "timeline = range(len(data4rad_D_obs_pd2)-88,len(data4rad_D_obs_pd2))\n",
        "\n",
        "pred_data = model_D.predict(data4rad_np_x2)"
      ],
      "execution_count": 23,
      "outputs": []
    },
    {
      "cell_type": "code",
      "metadata": {
        "colab": {
          "base_uri": "https://localhost:8080/"
        },
        "id": "Irw0EqHe4ECg",
        "outputId": "9589dafc-49e2-4e23-979c-870ea1c9fd00"
      },
      "source": [
        "Y = np.array(data4rad_D_obs_pd2[\"dangjin\"])\n",
        "Y[timeline]"
      ],
      "execution_count": 24,
      "outputs": [
        {
          "output_type": "execute_result",
          "data": {
            "text/plain": [
              "array([0.        , 0.07266436, 0.32295271, 0.54901961, 0.69665513,\n",
              "       0.75663206, 0.76124567, 0.71626298, 0.44175317, 0.16262976,\n",
              "       0.02998847, 0.        , 0.04036909, 0.11764706, 0.33679354,\n",
              "       0.48673587, 0.59861592, 0.68858131, 0.66089965, 0.46136101,\n",
              "       0.14071511, 0.01153403, 0.        , 0.        , 0.        ,\n",
              "       0.        , 0.        , 0.        , 0.03806228, 0.03460208,\n",
              "       0.00230681, 0.00461361, 0.        , 0.        , 0.06805075,\n",
              "       0.2272203 , 0.58708189, 0.73125721, 0.7716263 , 0.73587082,\n",
              "       0.58477509, 0.39907728, 0.17762399, 0.01384083, 0.        ,\n",
              "       0.03575548, 0.01384083, 0.00230681, 0.14763552, 0.46366782,\n",
              "       0.68742791, 0.65859285, 0.3183391 , 0.09457901, 0.0011534 ,\n",
              "       0.        , 0.09342561, 0.29527105, 0.47174164, 0.5916955 ,\n",
              "       0.81199539, 0.9077278 , 0.87081892, 0.70588235, 0.3183391 ,\n",
              "       0.0449827 , 0.        , 0.        , 0.0438293 , 0.11649366,\n",
              "       0.44290657, 0.71164937, 0.77970012, 0.75663206, 0.59746251,\n",
              "       0.25144175, 0.02191465, 0.        , 0.05997693, 0.23068051,\n",
              "       0.48558247, 0.67704729, 0.70126874, 0.53979239, 0.40599769,\n",
              "       0.30103806, 0.09342561, 0.        ])"
            ]
          },
          "metadata": {
            "tags": []
          },
          "execution_count": 24
        }
      ]
    },
    {
      "cell_type": "code",
      "metadata": {
        "colab": {
          "base_uri": "https://localhost:8080/"
        },
        "id": "g_DBJsGqXw2Z",
        "outputId": "dfecdb2a-f40a-4c5f-8eee-a635337b526a"
      },
      "source": [
        "timeline2 = range(len(data4rad_D_obs_pd2)-22,len(data4rad_D_obs_pd2))\n",
        "\n",
        "pred_data[-1]"
      ],
      "execution_count": 25,
      "outputs": [
        {
          "output_type": "execute_result",
          "data": {
            "text/plain": [
              "array([0.11110683, 0.06143405, 0.13861755, 0.26422524, 0.3783526 ,\n",
              "       0.5102398 , 0.5964172 , 0.6058276 , 0.5493283 , 0.42946887,\n",
              "       0.2710058 , 0.1274025 , 0.099664  , 0.17345168, 0.29072452,\n",
              "       0.39847636, 0.5171972 , 0.5961781 , 0.5945755 , 0.5557418 ,\n",
              "       0.4159264 , 0.24794373], dtype=float32)"
            ]
          },
          "metadata": {
            "tags": []
          },
          "execution_count": 25
        }
      ]
    },
    {
      "cell_type": "code",
      "metadata": {
        "colab": {
          "base_uri": "https://localhost:8080/",
          "height": 295
        },
        "id": "bSi-1JGv5AiD",
        "outputId": "3557b77a-27e4-4386-db03-cf7293accc45"
      },
      "source": [
        "plt.plot(timeline,Y[timeline],\"b\",label = \"real generation\")\n",
        "plt.plot(timeline2,pred_data[-1],\"r\", label = \"predict generation\")\n",
        "plt.title('real-predict generation(norm)')\n",
        "plt.xlabel('Timeline')\n",
        "plt.ylabel('generation(norm)')\n",
        "plt.legend()\n",
        "plt.show()"
      ],
      "execution_count": 28,
      "outputs": [
        {
          "output_type": "display_data",
          "data": {
            "image/png": "[encoded data removed]",
            "text/plain": [
              "<Figure size 432x288 with 1 Axes>"
            ]
          },
          "metadata": {
            "tags": [],
            "needs_background": "light"
          }
        }
      ]
    },
    {
      "cell_type": "code",
      "metadata": {
        "colab": {
          "base_uri": "https://localhost:8080/"
        },
        "id": "0S_0DcOTXXpX",
        "outputId": "dcf5ab9e-4f67-4655-a9ba-d6462526c4bf"
      },
      "source": [
        "pred_data[-1]*(max_D-min_D)+min_D"
      ],
      "execution_count": 29,
      "outputs": [
        {
          "output_type": "execute_result",
          "data": {
            "text/plain": [
              "array([ 96.32962 ,  53.263317, 120.18141 , 229.08328 , 328.0317  ,\n",
              "       442.3779  , 517.0937  , 525.25256 , 476.26767 , 372.34952 ,\n",
              "       234.96204 , 110.45797 ,  86.40869 , 150.3826  , 252.05815 ,\n",
              "       345.479   , 448.40997 , 516.8864  , 515.497   , 481.82812 ,\n",
              "       360.6082  , 214.96721 ], dtype=float32)"
            ]
          },
          "metadata": {
            "tags": []
          },
          "execution_count": 29
        }
      ]
    },
    {
      "cell_type": "markdown",
      "metadata": {
        "id": "1QVnURzv_dV2"
      },
      "source": [
        "# 4. 예측"
      ]
    },
    {
      "cell_type": "code",
      "metadata": {
        "id": "Qsys8L5R_cBI"
      },
      "source": [
        "data_pred_D = pd.read_csv(\"./Data/예측_서산.csv\",encoding=\"utf-8\")\n",
        "data_pred_U = pd.read_csv(\"./Data/예측_울산2 (1).csv\",encoding=\"utf-8\")"
      ],
      "execution_count": 47,
      "outputs": []
    },
    {
      "cell_type": "code",
      "metadata": {
        "colab": {
          "base_uri": "https://localhost:8080/",
          "height": 419
        },
        "id": "dotzQHejADwA",
        "outputId": "ec28b46e-7509-490a-c5e4-3dd8e29a21d3"
      },
      "source": [
        "data_pred_D"
      ],
      "execution_count": 36,
      "outputs": [
        {
          "output_type": "execute_result",
          "data": {
            "text/html": [
              "<div>\n",
              "<style scoped>\n",
              "    .dataframe tbody tr th:only-of-type {\n",
              "        vertical-align: middle;\n",
              "    }\n",
              "\n",
              "    .dataframe tbody tr th {\n",
              "        vertical-align: top;\n",
              "    }\n",
              "\n",
              "    .dataframe thead th {\n",
              "        text-align: right;\n",
              "    }\n",
              "</style>\n",
              "<table border=\"1\" class=\"dataframe\">\n",
              "  <thead>\n",
              "    <tr style=\"text-align: right;\">\n",
              "      <th></th>\n",
              "      <th>지점</th>\n",
              "      <th>지점명</th>\n",
              "      <th>일시</th>\n",
              "      <th>기온(°C)</th>\n",
              "      <th>풍속(m/s)</th>\n",
              "      <th>습도(%)</th>\n",
              "      <th>일사(MJ/m2)</th>\n",
              "    </tr>\n",
              "  </thead>\n",
              "  <tbody>\n",
              "    <tr>\n",
              "      <th>0</th>\n",
              "      <td>129</td>\n",
              "      <td>서산</td>\n",
              "      <td>2021-01-25 0:00</td>\n",
              "      <td>2.9</td>\n",
              "      <td>0.0</td>\n",
              "      <td>81.0</td>\n",
              "      <td>NaN</td>\n",
              "    </tr>\n",
              "    <tr>\n",
              "      <th>1</th>\n",
              "      <td>129</td>\n",
              "      <td>서산</td>\n",
              "      <td>2021-01-25 1:00</td>\n",
              "      <td>2.7</td>\n",
              "      <td>1.4</td>\n",
              "      <td>85.0</td>\n",
              "      <td>NaN</td>\n",
              "    </tr>\n",
              "    <tr>\n",
              "      <th>2</th>\n",
              "      <td>129</td>\n",
              "      <td>서산</td>\n",
              "      <td>2021-01-25 2:00</td>\n",
              "      <td>2.2</td>\n",
              "      <td>0.5</td>\n",
              "      <td>82.0</td>\n",
              "      <td>NaN</td>\n",
              "    </tr>\n",
              "    <tr>\n",
              "      <th>3</th>\n",
              "      <td>129</td>\n",
              "      <td>서산</td>\n",
              "      <td>2021-01-25 3:00</td>\n",
              "      <td>2.4</td>\n",
              "      <td>0.5</td>\n",
              "      <td>84.0</td>\n",
              "      <td>NaN</td>\n",
              "    </tr>\n",
              "    <tr>\n",
              "      <th>4</th>\n",
              "      <td>129</td>\n",
              "      <td>서산</td>\n",
              "      <td>2021-01-25 4:00</td>\n",
              "      <td>5.2</td>\n",
              "      <td>1.1</td>\n",
              "      <td>72.0</td>\n",
              "      <td>NaN</td>\n",
              "    </tr>\n",
              "    <tr>\n",
              "      <th>...</th>\n",
              "      <td>...</td>\n",
              "      <td>...</td>\n",
              "      <td>...</td>\n",
              "      <td>...</td>\n",
              "      <td>...</td>\n",
              "      <td>...</td>\n",
              "      <td>...</td>\n",
              "    </tr>\n",
              "    <tr>\n",
              "      <th>3164</th>\n",
              "      <td>129</td>\n",
              "      <td>서산</td>\n",
              "      <td>2021-06-05 20:00</td>\n",
              "      <td>19.1</td>\n",
              "      <td>3.0</td>\n",
              "      <td>90.0</td>\n",
              "      <td>0.03</td>\n",
              "    </tr>\n",
              "    <tr>\n",
              "      <th>3165</th>\n",
              "      <td>129</td>\n",
              "      <td>서산</td>\n",
              "      <td>2021-06-05 21:00</td>\n",
              "      <td>18.9</td>\n",
              "      <td>2.8</td>\n",
              "      <td>91.0</td>\n",
              "      <td>NaN</td>\n",
              "    </tr>\n",
              "    <tr>\n",
              "      <th>3166</th>\n",
              "      <td>129</td>\n",
              "      <td>서산</td>\n",
              "      <td>2021-06-05 22:00</td>\n",
              "      <td>18.8</td>\n",
              "      <td>1.7</td>\n",
              "      <td>92.0</td>\n",
              "      <td>NaN</td>\n",
              "    </tr>\n",
              "    <tr>\n",
              "      <th>3167</th>\n",
              "      <td>129</td>\n",
              "      <td>서산</td>\n",
              "      <td>2021-06-05 23:00</td>\n",
              "      <td>18.5</td>\n",
              "      <td>3.1</td>\n",
              "      <td>94.0</td>\n",
              "      <td>NaN</td>\n",
              "    </tr>\n",
              "    <tr>\n",
              "      <th>3168</th>\n",
              "      <td>129</td>\n",
              "      <td>서산</td>\n",
              "      <td>2021-06-06 0:00</td>\n",
              "      <td>18.3</td>\n",
              "      <td>2.1</td>\n",
              "      <td>96.0</td>\n",
              "      <td>NaN</td>\n",
              "    </tr>\n",
              "  </tbody>\n",
              "</table>\n",
              "<p>3169 rows × 7 columns</p>\n",
              "</div>"
            ],
            "text/plain": [
              "       지점 지점명                일시  기온(°C)  풍속(m/s)  습도(%)  일사(MJ/m2)\n",
              "0     129  서산   2021-01-25 0:00     2.9      0.0   81.0        NaN\n",
              "1     129  서산   2021-01-25 1:00     2.7      1.4   85.0        NaN\n",
              "2     129  서산   2021-01-25 2:00     2.2      0.5   82.0        NaN\n",
              "3     129  서산   2021-01-25 3:00     2.4      0.5   84.0        NaN\n",
              "4     129  서산   2021-01-25 4:00     5.2      1.1   72.0        NaN\n",
              "...   ...  ..               ...     ...      ...    ...        ...\n",
              "3164  129  서산  2021-06-05 20:00    19.1      3.0   90.0       0.03\n",
              "3165  129  서산  2021-06-05 21:00    18.9      2.8   91.0        NaN\n",
              "3166  129  서산  2021-06-05 22:00    18.8      1.7   92.0        NaN\n",
              "3167  129  서산  2021-06-05 23:00    18.5      3.1   94.0        NaN\n",
              "3168  129  서산   2021-06-06 0:00    18.3      2.1   96.0        NaN\n",
              "\n",
              "[3169 rows x 7 columns]"
            ]
          },
          "metadata": {
            "tags": []
          },
          "execution_count": 36
        }
      ]
    },
    {
      "cell_type": "code",
      "metadata": {
        "colab": {
          "base_uri": "https://localhost:8080/",
          "height": 419
        },
        "id": "GmAaLs04ARwx",
        "outputId": "d04e71e4-482e-46a6-d0ba-4d36ad439eb4"
      },
      "source": [
        "data_pred_U"
      ],
      "execution_count": 28,
      "outputs": [
        {
          "output_type": "execute_result",
          "data": {
            "text/html": [
              "<div>\n",
              "<style scoped>\n",
              "    .dataframe tbody tr th:only-of-type {\n",
              "        vertical-align: middle;\n",
              "    }\n",
              "\n",
              "    .dataframe tbody tr th {\n",
              "        vertical-align: top;\n",
              "    }\n",
              "\n",
              "    .dataframe thead th {\n",
              "        text-align: right;\n",
              "    }\n",
              "</style>\n",
              "<table border=\"1\" class=\"dataframe\">\n",
              "  <thead>\n",
              "    <tr style=\"text-align: right;\">\n",
              "      <th></th>\n",
              "      <th>Unnamed: 0</th>\n",
              "      <th>지점</th>\n",
              "      <th>지점명</th>\n",
              "      <th>일시</th>\n",
              "      <th>기온(°C)</th>\n",
              "      <th>풍속(m/s)</th>\n",
              "      <th>습도(%)</th>\n",
              "      <th>경주일사</th>\n",
              "    </tr>\n",
              "  </thead>\n",
              "  <tbody>\n",
              "    <tr>\n",
              "      <th>0</th>\n",
              "      <td>0</td>\n",
              "      <td>152</td>\n",
              "      <td>울산</td>\n",
              "      <td>2021-01-25 00:00:00</td>\n",
              "      <td>9.0</td>\n",
              "      <td>1.5</td>\n",
              "      <td>67</td>\n",
              "      <td>NaN</td>\n",
              "    </tr>\n",
              "    <tr>\n",
              "      <th>1</th>\n",
              "      <td>1</td>\n",
              "      <td>152</td>\n",
              "      <td>울산</td>\n",
              "      <td>2021-01-25 01:00:00</td>\n",
              "      <td>8.9</td>\n",
              "      <td>1.4</td>\n",
              "      <td>64</td>\n",
              "      <td>NaN</td>\n",
              "    </tr>\n",
              "    <tr>\n",
              "      <th>2</th>\n",
              "      <td>2</td>\n",
              "      <td>152</td>\n",
              "      <td>울산</td>\n",
              "      <td>2021-01-25 02:00:00</td>\n",
              "      <td>8.6</td>\n",
              "      <td>1.9</td>\n",
              "      <td>65</td>\n",
              "      <td>NaN</td>\n",
              "    </tr>\n",
              "    <tr>\n",
              "      <th>3</th>\n",
              "      <td>3</td>\n",
              "      <td>152</td>\n",
              "      <td>울산</td>\n",
              "      <td>2021-01-25 03:00:00</td>\n",
              "      <td>8.4</td>\n",
              "      <td>1.6</td>\n",
              "      <td>66</td>\n",
              "      <td>NaN</td>\n",
              "    </tr>\n",
              "    <tr>\n",
              "      <th>4</th>\n",
              "      <td>4</td>\n",
              "      <td>152</td>\n",
              "      <td>울산</td>\n",
              "      <td>2021-01-25 04:00:00</td>\n",
              "      <td>8.1</td>\n",
              "      <td>2.6</td>\n",
              "      <td>69</td>\n",
              "      <td>NaN</td>\n",
              "    </tr>\n",
              "    <tr>\n",
              "      <th>...</th>\n",
              "      <td>...</td>\n",
              "      <td>...</td>\n",
              "      <td>...</td>\n",
              "      <td>...</td>\n",
              "      <td>...</td>\n",
              "      <td>...</td>\n",
              "      <td>...</td>\n",
              "      <td>...</td>\n",
              "    </tr>\n",
              "    <tr>\n",
              "      <th>3164</th>\n",
              "      <td>3164</td>\n",
              "      <td>152</td>\n",
              "      <td>울산</td>\n",
              "      <td>2021-06-05 20:00:00</td>\n",
              "      <td>23.3</td>\n",
              "      <td>4.1</td>\n",
              "      <td>71</td>\n",
              "      <td>0.04</td>\n",
              "    </tr>\n",
              "    <tr>\n",
              "      <th>3165</th>\n",
              "      <td>3165</td>\n",
              "      <td>152</td>\n",
              "      <td>울산</td>\n",
              "      <td>2021-06-05 21:00:00</td>\n",
              "      <td>21.1</td>\n",
              "      <td>1.5</td>\n",
              "      <td>83</td>\n",
              "      <td>NaN</td>\n",
              "    </tr>\n",
              "    <tr>\n",
              "      <th>3166</th>\n",
              "      <td>3166</td>\n",
              "      <td>152</td>\n",
              "      <td>울산</td>\n",
              "      <td>2021-06-05 22:00:00</td>\n",
              "      <td>21.8</td>\n",
              "      <td>2.8</td>\n",
              "      <td>77</td>\n",
              "      <td>NaN</td>\n",
              "    </tr>\n",
              "    <tr>\n",
              "      <th>3167</th>\n",
              "      <td>3167</td>\n",
              "      <td>152</td>\n",
              "      <td>울산</td>\n",
              "      <td>2021-06-05 23:00:00</td>\n",
              "      <td>21.4</td>\n",
              "      <td>3.4</td>\n",
              "      <td>78</td>\n",
              "      <td>NaN</td>\n",
              "    </tr>\n",
              "    <tr>\n",
              "      <th>3168</th>\n",
              "      <td>3168</td>\n",
              "      <td>152</td>\n",
              "      <td>울산</td>\n",
              "      <td>2021-06-06 00:00:00</td>\n",
              "      <td>20.8</td>\n",
              "      <td>1.8</td>\n",
              "      <td>76</td>\n",
              "      <td>NaN</td>\n",
              "    </tr>\n",
              "  </tbody>\n",
              "</table>\n",
              "<p>3169 rows × 8 columns</p>\n",
              "</div>"
            ],
            "text/plain": [
              "      Unnamed: 0   지점 지점명                   일시  기온(°C)  풍속(m/s)  습도(%)  경주일사\n",
              "0              0  152  울산  2021-01-25 00:00:00     9.0      1.5     67   NaN\n",
              "1              1  152  울산  2021-01-25 01:00:00     8.9      1.4     64   NaN\n",
              "2              2  152  울산  2021-01-25 02:00:00     8.6      1.9     65   NaN\n",
              "3              3  152  울산  2021-01-25 03:00:00     8.4      1.6     66   NaN\n",
              "4              4  152  울산  2021-01-25 04:00:00     8.1      2.6     69   NaN\n",
              "...          ...  ...  ..                  ...     ...      ...    ...   ...\n",
              "3164        3164  152  울산  2021-06-05 20:00:00    23.3      4.1     71  0.04\n",
              "3165        3165  152  울산  2021-06-05 21:00:00    21.1      1.5     83   NaN\n",
              "3166        3166  152  울산  2021-06-05 22:00:00    21.8      2.8     77   NaN\n",
              "3167        3167  152  울산  2021-06-05 23:00:00    21.4      3.4     78   NaN\n",
              "3168        3168  152  울산  2021-06-06 00:00:00    20.8      1.8     76   NaN\n",
              "\n",
              "[3169 rows x 8 columns]"
            ]
          },
          "metadata": {
            "tags": []
          },
          "execution_count": 28
        }
      ]
    },
    {
      "cell_type": "code",
      "metadata": {
        "id": "UUT9tuvXATBq"
      },
      "source": [
        "sel_D_variable = [\"기온(°C)\",'습도(%)','풍속(m/s)','일사(MJ/m2)']\n",
        "sel_U_variable = [\"기온(°C)\",'습도(%)','풍속(m/s)','경주일사']"
      ],
      "execution_count": 29,
      "outputs": []
    },
    {
      "cell_type": "code",
      "metadata": {
        "id": "IbkDIvo2IuC9"
      },
      "source": [
        "data_pred_D[\"일시\"] = pd.to_datetime(data_pred_D[\"일시\"])\n",
        "data_pred_D[\"시간\"] = data_pred_D[\"일시\"].dt.hour #예측하는 시점의 '시'만 떼서 넣을 예정\n",
        "\n",
        "#8시에서 18시까지만\n",
        "day_idx1 = data_pred_D[\"시간\"] >= 8\n",
        "day_idx2 = data_pred_D[\"시간\"] <= 18\n",
        "data_pred_D = data_pred_D[day_idx1]\n",
        "data_pred_D = data_pred_D[day_idx2]\n",
        "\n",
        "data_pred_D = data_pred_D[sel_D_variable]\n",
        "\n",
        "for i in sel_D_variable:\n",
        "  data_pred_D = data_pred_D[data_pred_D[i].notna()]\n",
        "\n",
        "for i in sel_D_variable:\n",
        "  min_x = min(data_pred_D[i])\n",
        "  max_x = max(data_pred_D[i])\n",
        "  diff_ = max_x - min_x\n",
        "\n",
        "  data_pred_D[i] = data_pred_D[i]-min_x\n",
        "  data_pred_D[i] = data_pred_D[i]/diff_"
      ],
      "execution_count": null,
      "outputs": []
    },
    {
      "cell_type": "code",
      "metadata": {
        "id": "F5OO132lA9Qz"
      },
      "source": [
        "data_pred_U[\"일시\"] = pd.to_datetime(data_pred_U[\"일시\"])\n",
        "data_pred_U[\"시간\"] = data_pred_U[\"일시\"].dt.hour #예측하는 시점의 '시'만 떼서 넣을 예정\n",
        "\n",
        "#8시에서 18시까지만\n",
        "day_idx1 = data_pred_U[\"시간\"] >= 8\n",
        "day_idx2 = data_pred_U[\"시간\"] <= 18\n",
        "data_pred_U = data_pred_U[day_idx1]\n",
        "data_pred_U = data_pred_U[day_idx2]\n",
        "\n",
        "data_pred_U = data_pred_U[sel_U_variable]\n",
        "\n",
        "for i in sel_U_variable:\n",
        "  data_pred_U = data_pred_U[data_pred_U[i].notna()]\n",
        "\n",
        "for i in sel_U_variable:\n",
        "  min_x = min(data_pred_U[i])\n",
        "  max_x = max(data_pred_U[i])\n",
        "  diff_ = max_x - min_x\n",
        "\n",
        "  data_pred_U[i] = data_pred_U[i]-min_x\n",
        "  data_pred_U[i] = data_pred_U[i]/diff_"
      ],
      "execution_count": 73,
      "outputs": []
    },
    {
      "cell_type": "code",
      "metadata": {
        "colab": {
          "base_uri": "https://localhost:8080/"
        },
        "id": "91Q1nhxeCxxa",
        "outputId": "4ee8b1b1-aae1-4f95-ed29-af821fc3e731"
      },
      "source": [
        "for idx in sel_D_variable:\n",
        "  print(idx,end=\" : \")\n",
        "  print(sum(data_pred_D[idx].isna()))\n",
        "\n",
        "print(len(data_pred_D))"
      ],
      "execution_count": 49,
      "outputs": [
        {
          "output_type": "stream",
          "text": [
            "기온(°C) : 0\n",
            "습도(%) : 0\n",
            "풍속(m/s) : 0\n",
            "일사(MJ/m2) : 0\n",
            "1451\n"
          ],
          "name": "stdout"
        }
      ]
    },
    {
      "cell_type": "code",
      "metadata": {
        "colab": {
          "base_uri": "https://localhost:8080/"
        },
        "id": "j18ECzCoJEKU",
        "outputId": "f3be64ce-633a-44a5-8061-90d87678e483"
      },
      "source": [
        "for idx in sel_U_variable:\n",
        "  print(idx,end=\" : \")\n",
        "  print(sum(data_pred_U[idx].isna()))\n",
        "\n",
        "print(len(data_pred_U))"
      ],
      "execution_count": 74,
      "outputs": [
        {
          "output_type": "stream",
          "text": [
            "기온(°C) : 0\n",
            "습도(%) : 0\n",
            "풍속(m/s) : 0\n",
            "경주일사 : 0\n",
            "1452\n"
          ],
          "name": "stdout"
        }
      ]
    },
    {
      "cell_type": "code",
      "metadata": {
        "id": "-kp5qweFCzja"
      },
      "source": [
        "feature_list = []\n",
        "for i in range(len(data_pred_D) -77 -22):\n",
        "  feature_list.append(np.array(data_pred_D.iloc[i:i+77]))\n",
        "data_pred_D_np = np.array(feature_list)\n"
      ],
      "execution_count": 50,
      "outputs": []
    },
    {
      "cell_type": "code",
      "metadata": {
        "id": "5mElDXWsJLaM"
      },
      "source": [
        "feature_list = []\n",
        "for i in range(len(data_pred_U) -77 -22):\n",
        "  feature_list.append(np.array(data_pred_U.iloc[i:i+77]))\n",
        "data_pred_U_np = np.array(feature_list)"
      ],
      "execution_count": 75,
      "outputs": []
    },
    {
      "cell_type": "code",
      "metadata": {
        "colab": {
          "base_uri": "https://localhost:8080/"
        },
        "id": "lX8ijWKsDeq-",
        "outputId": "8913ce0b-e5ad-460f-d871-ffc097110820"
      },
      "source": [
        "data_pred_D_np.shape"
      ],
      "execution_count": 51,
      "outputs": [
        {
          "output_type": "execute_result",
          "data": {
            "text/plain": [
              "(1352, 77, 4)"
            ]
          },
          "metadata": {
            "tags": []
          },
          "execution_count": 51
        }
      ]
    },
    {
      "cell_type": "code",
      "metadata": {
        "colab": {
          "base_uri": "https://localhost:8080/"
        },
        "id": "KCtE647OJSvQ",
        "outputId": "548d35f3-19de-420e-8583-1f7dde214604"
      },
      "source": [
        "data_pred_U_np.shape"
      ],
      "execution_count": 76,
      "outputs": [
        {
          "output_type": "execute_result",
          "data": {
            "text/plain": [
              "(1353, 77, 4)"
            ]
          },
          "metadata": {
            "tags": []
          },
          "execution_count": 76
        }
      ]
    },
    {
      "cell_type": "code",
      "metadata": {
        "colab": {
          "base_uri": "https://localhost:8080/",
          "height": 265
        },
        "id": "Xh3iQynuDz3H",
        "outputId": "f407ca7f-5910-4bf6-9daa-025fcc950e5b"
      },
      "source": [
        "pred_data_D = model_D.predict(data_pred_D_np)\n",
        "\n",
        "plt.plot(range(22),pred_data_D[-1]*(max_D-min_D)+min_D,\"b\")\n",
        "plt.show()"
      ],
      "execution_count": 53,
      "outputs": [
        {
          "output_type": "display_data",
          "data": {
            "image/png": "[encoded data removed]",
            "text/plain": [
              "<Figure size 432x288 with 1 Axes>"
            ]
          },
          "metadata": {
            "tags": [],
            "needs_background": "light"
          }
        }
      ]
    },
    {
      "cell_type": "code",
      "metadata": {
        "colab": {
          "base_uri": "https://localhost:8080/",
          "height": 265
        },
        "id": "m7aSN4A9JXfF",
        "outputId": "d8d17a89-0dd9-4cf0-f672-815f55e54cf7"
      },
      "source": [
        "pred_data_U = model_U.predict(data_pred_U_np)\n",
        "\n",
        "plt.plot(range(22),pred_data_U[-1]*(max_U-min_U)+min_U,\"b\")\n",
        "plt.show()"
      ],
      "execution_count": 77,
      "outputs": [
        {
          "output_type": "display_data",
          "data": {
            "image/png": "[encoded data removed]",
            "text/plain": [
              "<Figure size 432x288 with 1 Axes>"
            ]
          },
          "metadata": {
            "tags": [],
            "needs_background": "light"
          }
        }
      ]
    },
    {
      "cell_type": "code",
      "metadata": {
        "colab": {
          "base_uri": "https://localhost:8080/"
        },
        "id": "37XDgv1-EPSc",
        "outputId": "808eeab5-798d-47b2-c67e-b8ed0a1b1882"
      },
      "source": [
        "pred_data_U.shape"
      ],
      "execution_count": 78,
      "outputs": [
        {
          "output_type": "execute_result",
          "data": {
            "text/plain": [
              "(1353, 22)"
            ]
          },
          "metadata": {
            "tags": []
          },
          "execution_count": 78
        }
      ]
    },
    {
      "cell_type": "code",
      "metadata": {
        "id": "9wHP5CclGATF"
      },
      "source": [
        "def pred_process(pred_data,length):\n",
        "  pred_ = pred_data\n",
        "  l = length\n",
        "\n",
        "  pred_final = []\n",
        "  for idx in range(l-1):\n",
        "    pred_final.append(pred_[idx][0])\n",
        "  pred_final.extend(pred_[-1])\n",
        "\n",
        "  pred_final = np.array(pred_final)\n",
        "  return pred_final"
      ],
      "execution_count": 68,
      "outputs": []
    },
    {
      "cell_type": "code",
      "metadata": {
        "id": "vOALLaIQG4sN"
      },
      "source": [
        "pred_final_D = pred_process(pred_data_D,1352)\n",
        "pred_final_U = pred_process(pred_data_U,1353)"
      ],
      "execution_count": 79,
      "outputs": []
    },
    {
      "cell_type": "code",
      "metadata": {
        "colab": {
          "base_uri": "https://localhost:8080/",
          "height": 265
        },
        "id": "5VaFCMXYHUL3",
        "outputId": "c2861aa5-9f30-41c7-fe3c-93a8e73342d5"
      },
      "source": [
        "plt.plot(range(1373),pred_final_D,\"b\")\n",
        "plt.plot(range(1374),pred_final_U,\"r\")\n",
        "plt.show()"
      ],
      "execution_count": 81,
      "outputs": [
        {
          "output_type": "display_data",
          "data": {
            "image/png": "[encoded data removed]",
            "text/plain": [
              "<Figure size 432x288 with 1 Axes>"
            ]
          },
          "metadata": {
            "tags": [],
            "needs_background": "light"
          }
        }
      ]
    },
    {
      "cell_type": "markdown",
      "metadata": {
        "id": "CS536FyrJ07t"
      },
      "source": [
        "되돌리기"
      ]
    },
    {
      "cell_type": "code",
      "metadata": {
        "colab": {
          "base_uri": "https://localhost:8080/"
        },
        "id": "3CbZop3AHdJC",
        "outputId": "7c70fe8c-fd7a-4559-9467-b015b43ab952"
      },
      "source": [
        "pred_data_DF = model_DF.predict(data_pred_D_np)\n",
        "pred_data_DW = model_DW.predict(data_pred_D_np)\n",
        "\n",
        "print(pred_data_DF.shape)\n",
        "print(pred_data_DW.shape)"
      ],
      "execution_count": 82,
      "outputs": [
        {
          "output_type": "stream",
          "text": [
            "(1352, 22)\n",
            "(1352, 22)\n"
          ],
          "name": "stdout"
        }
      ]
    },
    {
      "cell_type": "code",
      "metadata": {
        "id": "EtWpgVa3KGrW"
      },
      "source": [
        "pred_final_DF = pred_process(pred_data_DF,1352)\n",
        "pred_final_DW = pred_process(pred_data_DW,1352)"
      ],
      "execution_count": 83,
      "outputs": []
    },
    {
      "cell_type": "code",
      "metadata": {
        "id": "QuzZfftBKMWG"
      },
      "source": [
        "pred_final_D = pred_final_D*(max_D-min_D)+min_D\n",
        "pred_final_DF = pred_final_DF*(max_DF-min_DF)+min_DF\n",
        "pred_final_DW = pred_final_DW*(max_DW-min_DW)+min_DW\n",
        "pred_final_U = pred_final_U*(max_U-min_U)+min_U"
      ],
      "execution_count": 88,
      "outputs": []
    },
    {
      "cell_type": "code",
      "metadata": {
        "colab": {
          "base_uri": "https://localhost:8080/"
        },
        "id": "j2q_N6TaKj_n",
        "outputId": "f7bbeff0-00e7-484b-ff9d-1c7f4aaff377"
      },
      "source": [
        "pred_final_U.shape"
      ],
      "execution_count": 93,
      "outputs": [
        {
          "output_type": "execute_result",
          "data": {
            "text/plain": [
              "(1374,)"
            ]
          },
          "metadata": {
            "tags": []
          },
          "execution_count": 93
        }
      ]
    },
    {
      "cell_type": "markdown",
      "metadata": {
        "id": "mzXCCidUMkqE"
      },
      "source": [
        "# 5. 예측값 파일에 넣기"
      ]
    },
    {
      "cell_type": "code",
      "metadata": {
        "id": "3s1MhD7kKlrz"
      },
      "source": [
        "final_file = pd.read_csv(\"test_sample_submission (1).csv\")\n",
        "#final_file.head(30)"
      ],
      "execution_count": 126,
      "outputs": []
    },
    {
      "cell_type": "code",
      "metadata": {
        "id": "ffo0EYKZMQDv"
      },
      "source": [
        "Feb_D = pred_final_D[range(28*11)]\n",
        "Feb_DF = pred_final_DF[range(28*11)]\n",
        "Feb_DW = pred_final_DW[range(28*11)]\n",
        "Feb_U = pred_final_U[range(28*11)]\n",
        "\n",
        "June_D = pred_final_D[range(-7*11,len(pred_final_D))]\n",
        "June_DF = pred_final_DF[range(-7*11,len(pred_final_DF))]\n",
        "June_DW = pred_final_DW[range(-7*11,len(pred_final_DW))]\n",
        "June_U = pred_final_U[range(-7*11,len(pred_final_U))]"
      ],
      "execution_count": 98,
      "outputs": []
    },
    {
      "cell_type": "code",
      "metadata": {
        "colab": {
          "base_uri": "https://localhost:8080/"
        },
        "id": "a1p_0BK4OKa2",
        "outputId": "1b2c54c2-9291-4e7c-835b-1df94dcf0b95"
      },
      "source": [
        "Feb_DF[range(11)]"
      ],
      "execution_count": 118,
      "outputs": [
        {
          "output_type": "execute_result",
          "data": {
            "text/plain": [
              "array([ 10.493739,  73.06344 , 183.01208 , 335.3641  , 490.6193  ,\n",
              "       485.2673  , 383.68048 , 330.9097  , 209.71841 ,  57.42071 ,\n",
              "        38.214108], dtype=float32)"
            ]
          },
          "metadata": {
            "tags": []
          },
          "execution_count": 118
        }
      ]
    },
    {
      "cell_type": "code",
      "metadata": {
        "colab": {
          "base_uri": "https://localhost:8080/"
        },
        "id": "3o7v8PzqOQRf",
        "outputId": "bf781621-147c-4a06-fa6c-5bbc1a243ca1"
      },
      "source": [
        "#1 2 3 4 5 6 7 (8 9 10 11 12 13 14 15 16 17 18) 19 20 21 22 23 0\n",
        "for i in range(28):\n",
        "  k=0\n",
        "  for j in range(24):\n",
        "    if 8 <= j and j <= 18 :\n",
        "      final_file[\"dangjin_floating\"][i*24+j-1] = Feb_DF[i*11+k]\n",
        "      final_file[\"dangjin_warehouse\"][i*24+j-1] = Feb_DW[i*11+k]\n",
        "      final_file[\"dangjin\"][i*24+j-1] = Feb_D[i*11+k]\n",
        "      final_file[\"ulsan\"][i*24+j-1] = Feb_U[i*11+k]\n",
        "      k = k + 1\n",
        "\n",
        "for i in range(7):\n",
        "  k=0\n",
        "  for j in range(24):\n",
        "    if 8 <= j and j <= 18 :\n",
        "      final_file[\"dangjin_floating\"][672+i*24+j-1] = June_DF[i*11+k]\n",
        "      final_file[\"dangjin_warehouse\"][672+i*24+j-1] = June_DW[i*11+k]\n",
        "      final_file[\"dangjin\"][672+i*24+j-1] = June_D[i*11+k]\n",
        "      final_file[\"ulsan\"][672+i*24+j-1] = June_U[i*11+k]\n",
        "      k = k + 1"
      ],
      "execution_count": 127,
      "outputs": [
        {
          "output_type": "stream",
          "text": [
            "/usr/local/lib/python3.7/dist-packages/ipykernel_launcher.py:6: SettingWithCopyWarning: \n",
            "A value is trying to be set on a copy of a slice from a DataFrame\n",
            "\n",
            "See the caveats in the documentation: https://pandas.pydata.org/pandas-docs/stable/user_guide/indexing.html#returning-a-view-versus-a-copy\n",
            "  \n",
            "/usr/local/lib/python3.7/dist-packages/ipykernel_launcher.py:7: SettingWithCopyWarning: \n",
            "A value is trying to be set on a copy of a slice from a DataFrame\n",
            "\n",
            "See the caveats in the documentation: https://pandas.pydata.org/pandas-docs/stable/user_guide/indexing.html#returning-a-view-versus-a-copy\n",
            "  import sys\n",
            "/usr/local/lib/python3.7/dist-packages/ipykernel_launcher.py:8: SettingWithCopyWarning: \n",
            "A value is trying to be set on a copy of a slice from a DataFrame\n",
            "\n",
            "See the caveats in the documentation: https://pandas.pydata.org/pandas-docs/stable/user_guide/indexing.html#returning-a-view-versus-a-copy\n",
            "  \n",
            "/usr/local/lib/python3.7/dist-packages/ipykernel_launcher.py:9: SettingWithCopyWarning: \n",
            "A value is trying to be set on a copy of a slice from a DataFrame\n",
            "\n",
            "See the caveats in the documentation: https://pandas.pydata.org/pandas-docs/stable/user_guide/indexing.html#returning-a-view-versus-a-copy\n",
            "  if __name__ == '__main__':\n",
            "/usr/local/lib/python3.7/dist-packages/ipykernel_launcher.py:16: SettingWithCopyWarning: \n",
            "A value is trying to be set on a copy of a slice from a DataFrame\n",
            "\n",
            "See the caveats in the documentation: https://pandas.pydata.org/pandas-docs/stable/user_guide/indexing.html#returning-a-view-versus-a-copy\n",
            "  app.launch_new_instance()\n",
            "/usr/local/lib/python3.7/dist-packages/ipykernel_launcher.py:17: SettingWithCopyWarning: \n",
            "A value is trying to be set on a copy of a slice from a DataFrame\n",
            "\n",
            "See the caveats in the documentation: https://pandas.pydata.org/pandas-docs/stable/user_guide/indexing.html#returning-a-view-versus-a-copy\n",
            "/usr/local/lib/python3.7/dist-packages/ipykernel_launcher.py:18: SettingWithCopyWarning: \n",
            "A value is trying to be set on a copy of a slice from a DataFrame\n",
            "\n",
            "See the caveats in the documentation: https://pandas.pydata.org/pandas-docs/stable/user_guide/indexing.html#returning-a-view-versus-a-copy\n",
            "/usr/local/lib/python3.7/dist-packages/ipykernel_launcher.py:19: SettingWithCopyWarning: \n",
            "A value is trying to be set on a copy of a slice from a DataFrame\n",
            "\n",
            "See the caveats in the documentation: https://pandas.pydata.org/pandas-docs/stable/user_guide/indexing.html#returning-a-view-versus-a-copy\n"
          ],
          "name": "stderr"
        }
      ]
    },
    {
      "cell_type": "code",
      "metadata": {
        "colab": {
          "base_uri": "https://localhost:8080/"
        },
        "id": "WVBxu6_wRMft",
        "outputId": "8a69abe5-1289-4dd6-eb52-9de3e95dbb09"
      },
      "source": [
        "i*24+j-1"
      ],
      "execution_count": 123,
      "outputs": [
        {
          "output_type": "execute_result",
          "data": {
            "text/plain": [
              "670"
            ]
          },
          "metadata": {
            "tags": []
          },
          "execution_count": 123
        }
      ]
    },
    {
      "cell_type": "code",
      "metadata": {
        "colab": {
          "base_uri": "https://localhost:8080/",
          "height": 979
        },
        "id": "I0wrZuVXPIs3",
        "outputId": "4465e6f5-109e-42ea-df59-da5e9febd227"
      },
      "source": [
        "final_file.head(30)"
      ],
      "execution_count": 121,
      "outputs": [
        {
          "output_type": "execute_result",
          "data": {
            "text/html": [
              "<div>\n",
              "<style scoped>\n",
              "    .dataframe tbody tr th:only-of-type {\n",
              "        vertical-align: middle;\n",
              "    }\n",
              "\n",
              "    .dataframe tbody tr th {\n",
              "        vertical-align: top;\n",
              "    }\n",
              "\n",
              "    .dataframe thead th {\n",
              "        text-align: right;\n",
              "    }\n",
              "</style>\n",
              "<table border=\"1\" class=\"dataframe\">\n",
              "  <thead>\n",
              "    <tr style=\"text-align: right;\">\n",
              "      <th></th>\n",
              "      <th>time</th>\n",
              "      <th>dangjin_floating</th>\n",
              "      <th>dangjin_warehouse</th>\n",
              "      <th>dangjin</th>\n",
              "      <th>ulsan</th>\n",
              "    </tr>\n",
              "  </thead>\n",
              "  <tbody>\n",
              "    <tr>\n",
              "      <th>0</th>\n",
              "      <td>2021-02-01 01:00:00</td>\n",
              "      <td>0</td>\n",
              "      <td>0</td>\n",
              "      <td>0</td>\n",
              "      <td>0</td>\n",
              "    </tr>\n",
              "    <tr>\n",
              "      <th>1</th>\n",
              "      <td>2021-02-01 02:00:00</td>\n",
              "      <td>0</td>\n",
              "      <td>0</td>\n",
              "      <td>0</td>\n",
              "      <td>0</td>\n",
              "    </tr>\n",
              "    <tr>\n",
              "      <th>2</th>\n",
              "      <td>2021-02-01 03:00:00</td>\n",
              "      <td>0</td>\n",
              "      <td>0</td>\n",
              "      <td>0</td>\n",
              "      <td>0</td>\n",
              "    </tr>\n",
              "    <tr>\n",
              "      <th>3</th>\n",
              "      <td>2021-02-01 04:00:00</td>\n",
              "      <td>0</td>\n",
              "      <td>0</td>\n",
              "      <td>0</td>\n",
              "      <td>0</td>\n",
              "    </tr>\n",
              "    <tr>\n",
              "      <th>4</th>\n",
              "      <td>2021-02-01 05:00:00</td>\n",
              "      <td>0</td>\n",
              "      <td>0</td>\n",
              "      <td>0</td>\n",
              "      <td>0</td>\n",
              "    </tr>\n",
              "    <tr>\n",
              "      <th>5</th>\n",
              "      <td>2021-02-01 06:00:00</td>\n",
              "      <td>0</td>\n",
              "      <td>0</td>\n",
              "      <td>0</td>\n",
              "      <td>0</td>\n",
              "    </tr>\n",
              "    <tr>\n",
              "      <th>6</th>\n",
              "      <td>2021-02-01 07:00:00</td>\n",
              "      <td>0</td>\n",
              "      <td>0</td>\n",
              "      <td>0</td>\n",
              "      <td>0</td>\n",
              "    </tr>\n",
              "    <tr>\n",
              "      <th>7</th>\n",
              "      <td>2021-02-01 08:00:00</td>\n",
              "      <td>10</td>\n",
              "      <td>-55</td>\n",
              "      <td>-59</td>\n",
              "      <td>-10</td>\n",
              "    </tr>\n",
              "    <tr>\n",
              "      <th>8</th>\n",
              "      <td>2021-02-01 09:00:00</td>\n",
              "      <td>73</td>\n",
              "      <td>22</td>\n",
              "      <td>36</td>\n",
              "      <td>25</td>\n",
              "    </tr>\n",
              "    <tr>\n",
              "      <th>9</th>\n",
              "      <td>2021-02-01 10:00:00</td>\n",
              "      <td>183</td>\n",
              "      <td>117</td>\n",
              "      <td>165</td>\n",
              "      <td>84</td>\n",
              "    </tr>\n",
              "    <tr>\n",
              "      <th>10</th>\n",
              "      <td>2021-02-01 11:00:00</td>\n",
              "      <td>335</td>\n",
              "      <td>205</td>\n",
              "      <td>351</td>\n",
              "      <td>128</td>\n",
              "    </tr>\n",
              "    <tr>\n",
              "      <th>11</th>\n",
              "      <td>2021-02-01 12:00:00</td>\n",
              "      <td>490</td>\n",
              "      <td>263</td>\n",
              "      <td>469</td>\n",
              "      <td>155</td>\n",
              "    </tr>\n",
              "    <tr>\n",
              "      <th>12</th>\n",
              "      <td>2021-02-01 13:00:00</td>\n",
              "      <td>485</td>\n",
              "      <td>264</td>\n",
              "      <td>519</td>\n",
              "      <td>230</td>\n",
              "    </tr>\n",
              "    <tr>\n",
              "      <th>13</th>\n",
              "      <td>2021-02-01 14:00:00</td>\n",
              "      <td>383</td>\n",
              "      <td>190</td>\n",
              "      <td>339</td>\n",
              "      <td>220</td>\n",
              "    </tr>\n",
              "    <tr>\n",
              "      <th>14</th>\n",
              "      <td>2021-02-01 15:00:00</td>\n",
              "      <td>330</td>\n",
              "      <td>151</td>\n",
              "      <td>354</td>\n",
              "      <td>207</td>\n",
              "    </tr>\n",
              "    <tr>\n",
              "      <th>15</th>\n",
              "      <td>2021-02-01 16:00:00</td>\n",
              "      <td>209</td>\n",
              "      <td>78</td>\n",
              "      <td>148</td>\n",
              "      <td>128</td>\n",
              "    </tr>\n",
              "    <tr>\n",
              "      <th>16</th>\n",
              "      <td>2021-02-01 17:00:00</td>\n",
              "      <td>57</td>\n",
              "      <td>-12</td>\n",
              "      <td>-29</td>\n",
              "      <td>66</td>\n",
              "    </tr>\n",
              "    <tr>\n",
              "      <th>17</th>\n",
              "      <td>2021-02-01 18:00:00</td>\n",
              "      <td>38</td>\n",
              "      <td>-3</td>\n",
              "      <td>-31</td>\n",
              "      <td>-14</td>\n",
              "    </tr>\n",
              "    <tr>\n",
              "      <th>18</th>\n",
              "      <td>2021-02-01 19:00:00</td>\n",
              "      <td>0</td>\n",
              "      <td>0</td>\n",
              "      <td>0</td>\n",
              "      <td>0</td>\n",
              "    </tr>\n",
              "    <tr>\n",
              "      <th>19</th>\n",
              "      <td>2021-02-01 20:00:00</td>\n",
              "      <td>0</td>\n",
              "      <td>0</td>\n",
              "      <td>0</td>\n",
              "      <td>0</td>\n",
              "    </tr>\n",
              "    <tr>\n",
              "      <th>20</th>\n",
              "      <td>2021-02-01 21:00:00</td>\n",
              "      <td>0</td>\n",
              "      <td>0</td>\n",
              "      <td>0</td>\n",
              "      <td>0</td>\n",
              "    </tr>\n",
              "    <tr>\n",
              "      <th>21</th>\n",
              "      <td>2021-02-01 22:00:00</td>\n",
              "      <td>0</td>\n",
              "      <td>0</td>\n",
              "      <td>0</td>\n",
              "      <td>0</td>\n",
              "    </tr>\n",
              "    <tr>\n",
              "      <th>22</th>\n",
              "      <td>2021-02-01 23:00:00</td>\n",
              "      <td>0</td>\n",
              "      <td>0</td>\n",
              "      <td>0</td>\n",
              "      <td>0</td>\n",
              "    </tr>\n",
              "    <tr>\n",
              "      <th>23</th>\n",
              "      <td>2021-02-01 24:00:00</td>\n",
              "      <td>0</td>\n",
              "      <td>0</td>\n",
              "      <td>0</td>\n",
              "      <td>0</td>\n",
              "    </tr>\n",
              "    <tr>\n",
              "      <th>24</th>\n",
              "      <td>2021-02-02 01:00:00</td>\n",
              "      <td>0</td>\n",
              "      <td>0</td>\n",
              "      <td>0</td>\n",
              "      <td>0</td>\n",
              "    </tr>\n",
              "    <tr>\n",
              "      <th>25</th>\n",
              "      <td>2021-02-02 02:00:00</td>\n",
              "      <td>0</td>\n",
              "      <td>0</td>\n",
              "      <td>0</td>\n",
              "      <td>0</td>\n",
              "    </tr>\n",
              "    <tr>\n",
              "      <th>26</th>\n",
              "      <td>2021-02-02 03:00:00</td>\n",
              "      <td>0</td>\n",
              "      <td>0</td>\n",
              "      <td>0</td>\n",
              "      <td>0</td>\n",
              "    </tr>\n",
              "    <tr>\n",
              "      <th>27</th>\n",
              "      <td>2021-02-02 04:00:00</td>\n",
              "      <td>0</td>\n",
              "      <td>0</td>\n",
              "      <td>0</td>\n",
              "      <td>0</td>\n",
              "    </tr>\n",
              "    <tr>\n",
              "      <th>28</th>\n",
              "      <td>2021-02-02 05:00:00</td>\n",
              "      <td>0</td>\n",
              "      <td>0</td>\n",
              "      <td>0</td>\n",
              "      <td>0</td>\n",
              "    </tr>\n",
              "    <tr>\n",
              "      <th>29</th>\n",
              "      <td>2021-02-02 06:00:00</td>\n",
              "      <td>0</td>\n",
              "      <td>0</td>\n",
              "      <td>0</td>\n",
              "      <td>0</td>\n",
              "    </tr>\n",
              "  </tbody>\n",
              "</table>\n",
              "</div>"
            ],
            "text/plain": [
              "                   time  dangjin_floating  dangjin_warehouse  dangjin  ulsan\n",
              "0   2021-02-01 01:00:00                 0                  0        0      0\n",
              "1   2021-02-01 02:00:00                 0                  0        0      0\n",
              "2   2021-02-01 03:00:00                 0                  0        0      0\n",
              "3   2021-02-01 04:00:00                 0                  0        0      0\n",
              "4   2021-02-01 05:00:00                 0                  0        0      0\n",
              "5   2021-02-01 06:00:00                 0                  0        0      0\n",
              "6   2021-02-01 07:00:00                 0                  0        0      0\n",
              "7   2021-02-01 08:00:00                10                -55      -59    -10\n",
              "8   2021-02-01 09:00:00                73                 22       36     25\n",
              "9   2021-02-01 10:00:00               183                117      165     84\n",
              "10  2021-02-01 11:00:00               335                205      351    128\n",
              "11  2021-02-01 12:00:00               490                263      469    155\n",
              "12  2021-02-01 13:00:00               485                264      519    230\n",
              "13  2021-02-01 14:00:00               383                190      339    220\n",
              "14  2021-02-01 15:00:00               330                151      354    207\n",
              "15  2021-02-01 16:00:00               209                 78      148    128\n",
              "16  2021-02-01 17:00:00                57                -12      -29     66\n",
              "17  2021-02-01 18:00:00                38                 -3      -31    -14\n",
              "18  2021-02-01 19:00:00                 0                  0        0      0\n",
              "19  2021-02-01 20:00:00                 0                  0        0      0\n",
              "20  2021-02-01 21:00:00                 0                  0        0      0\n",
              "21  2021-02-01 22:00:00                 0                  0        0      0\n",
              "22  2021-02-01 23:00:00                 0                  0        0      0\n",
              "23  2021-02-01 24:00:00                 0                  0        0      0\n",
              "24  2021-02-02 01:00:00                 0                  0        0      0\n",
              "25  2021-02-02 02:00:00                 0                  0        0      0\n",
              "26  2021-02-02 03:00:00                 0                  0        0      0\n",
              "27  2021-02-02 04:00:00                 0                  0        0      0\n",
              "28  2021-02-02 05:00:00                 0                  0        0      0\n",
              "29  2021-02-02 06:00:00                 0                  0        0      0"
            ]
          },
          "metadata": {
            "tags": []
          },
          "execution_count": 121
        }
      ]
    },
    {
      "cell_type": "code",
      "metadata": {
        "id": "cdob7nDkPldM"
      },
      "source": [
        "final_file.to_csv(\"final.csv\",mode=\"w\",index=False)"
      ],
      "execution_count": 128,
      "outputs": []
    },
    {
      "cell_type": "code",
      "metadata": {
        "id": "h_jdMj31SEU8"
      },
      "source": [
        ""
      ],
      "execution_count": null,
      "outputs": []
    }
  ]
}